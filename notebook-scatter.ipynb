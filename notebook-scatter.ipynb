{
 "cells": [
  {
   "cell_type": "code",
   "execution_count": 1,
   "id": "72a5d7a5",
   "metadata": {},
   "outputs": [
    {
     "name": "stdout",
     "output_type": "stream",
     "text": [
      "env: WAVE_CACHE_ON=0\n",
      "env: PYTHONPATH=/home/tim/iree/build/compiler/bindings/python:/home/tim/iree/build/runtime/bindings/python\n",
      "env: IREE_SAVE_TEMPS=/home/tim/iree-turbine/dump\n"
     ]
    }
   ],
   "source": [
    "%env WAVE_CACHE_ON=0\n",
    "%env PYTHONPATH=/home/tim/iree/build/compiler/bindings/python:/home/tim/iree/build/runtime/bindings/python\n",
    "%env IREE_SAVE_TEMPS=/home/tim/iree-turbine/dump"
   ]
  },
  {
   "cell_type": "code",
   "execution_count": 2,
   "id": "c0c79682",
   "metadata": {},
   "outputs": [
    {
     "name": "stderr",
     "output_type": "stream",
     "text": [
      "/home/tim/iree-turbine/iree/turbine/kernel/wave/wave.py:141: UserWarning: IREE version is too old: 3.4.0, min version: 3.5.0rc20250604\n",
      "  warnings.warn(\n",
      "WARNING 06-13 15:53:26 [expansion.py:771] No leaf operations found in kernel. Using final operation output(return_vals=(None,)) type(None)\n"
     ]
    },
    {
     "name": "stdout",
     "output_type": "stream",
     "text": [
      "#translation = #iree_codegen.translation_info<pipeline = None workgroup_size = [64, 1, 1] subgroup_size = 64>\n",
      "module attributes {transform.with_named_sequence} {\n",
      "  stream.executable private @scanop_cumsum {\n",
      "    stream.executable.export public @scanop_cumsum workgroups() -> (index, index, index) {\n",
      "      %c1 = arith.constant 1 : index\n",
      "      stream.return %c1, %c1, %c1 : index, index, index\n",
      "    }\n",
      "    builtin.module {\n",
      "      func.func @scanop_cumsum(%arg0: !stream.binding, %arg1: !stream.binding, %arg2: !stream.binding) attributes {translation_info = #translation} {\n",
      "        return\n",
      "      }\n",
      "    }\n",
      "  }\n",
      "  func.func @isolated_benchmark(%arg0: tensor<1x64xf16>, %arg1: tensor<1x64xf16>, %arg2: tensor<1x64xf16>) {\n",
      "    flow.dispatch @scanop_cumsum::@scanop_cumsum(%arg0, %arg1, %arg2) : (tensor<1x64xf16>, tensor<1x64xf16>, tensor<1x64xf16>) -> ()\n",
      "    return\n",
      "  }\n",
      "}\n",
      "\n"
     ]
    }
   ],
   "source": [
    "import iree.turbine.kernel.lang as tkl\n",
    "import iree.turbine.kernel.wave as tkw\n",
    "from iree.turbine.kernel.lang.global_symbols import *\n",
    "from iree.turbine.kernel.wave.utils.general_utils import (\n",
    "    get_default_scheduling_params,\n",
    ")\n",
    "from iree.turbine.kernel.wave.scheduling.schedule import SchedulingType\n",
    "from iree.turbine.kernel.wave.compile import WaveCompileOptions, wave_compile\n",
    "\n",
    "\n",
    "\n",
    "def test_scanop_cumsum():\n",
    "    M = tkl.sym.M\n",
    "    N = tkl.sym.N\n",
    "    BLOCK_M = 1\n",
    "    BLOCK_N = 64\n",
    "    ADDRESS_SPACE = tkl.sym.ADDRESS_SPACE\n",
    "\n",
    "    constraints: list[tkw.Constraint] = [\n",
    "        tkw.HardwareConstraint(\n",
    "            threads_per_wave=64,\n",
    "            waves_per_block=(1, 1, 1),\n",
    "            vector_shapes={M: 1, N: 64},\n",
    "        )\n",
    "    ]\n",
    "    constraints += [tkw.WorkgroupConstraint(M, BLOCK_M, 1)]\n",
    "    constraints += [tkw.WorkgroupConstraint(N, BLOCK_N, 0)]\n",
    "    constraints += [tkw.WaveConstraint(M, BLOCK_M)]\n",
    "    constraints += [tkw.WaveConstraint(N, BLOCK_N)]\n",
    "\n",
    "    @tkw.wave(constraints)\n",
    "    def scanop_cumsum(\n",
    "        out: tkl.Memory[M, N, GLOBAL_ADDRESS_SPACE, tkl.f16],\n",
    "        idx: tkl.Memory[M, N, GLOBAL_ADDRESS_SPACE, tkl.f16],\n",
    "        src: tkl.Memory[M, N, GLOBAL_ADDRESS_SPACE, tkl.f16],\n",
    "    ):\n",
    "        idx_reg = tkw.read(idx)\n",
    "        tkw.scatter_min(out, idx_reg, src, dim=N)\n",
    "\n",
    "    options = WaveCompileOptions(\n",
    "        subs={\n",
    "            M: 1,\n",
    "            N: 64,\n",
    "            BLOCK_M: 1,\n",
    "            BLOCK_N: 64,\n",
    "            ADDRESS_SPACE: tkl.AddressSpace.GLOBAL_MEMORY.value,\n",
    "        },\n",
    "        canonicalize=True,\n",
    "        compile_to_mlir=True,\n",
    "    )\n",
    "    scanop_cumsum = wave_compile(options, scanop_cumsum)\n",
    "    print(scanop_cumsum.asm)\n",
    "\n",
    "test_scanop_cumsum()"
   ]
  }
 ],
 "metadata": {
  "kernelspec": {
   "display_name": ".venv",
   "language": "python",
   "name": "python3"
  },
  "language_info": {
   "codemirror_mode": {
    "name": "ipython",
    "version": 3
   },
   "file_extension": ".py",
   "mimetype": "text/x-python",
   "name": "python",
   "nbconvert_exporter": "python",
   "pygments_lexer": "ipython3",
   "version": "3.12.3"
  }
 },
 "nbformat": 4,
 "nbformat_minor": 5
}
